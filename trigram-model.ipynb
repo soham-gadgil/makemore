{
 "cells": [
  {
   "cell_type": "code",
   "execution_count": 1,
   "metadata": {},
   "outputs": [],
   "source": [
    "# Corpus of around 32K names\n",
    "words = open(\"names.txt\", \"r\").read().splitlines()"
   ]
  },
  {
   "cell_type": "code",
   "execution_count": 2,
   "metadata": {},
   "outputs": [],
   "source": [
    "import torch"
   ]
  },
  {
   "cell_type": "code",
   "execution_count": 3,
   "metadata": {},
   "outputs": [],
   "source": [
    "N = torch.zeros([27, 27, 27], dtype=torch.int32)"
   ]
  },
  {
   "cell_type": "code",
   "execution_count": 4,
   "metadata": {},
   "outputs": [],
   "source": [
    "chars = sorted(list(set(''.join(words))))\n",
    "stoi = {s:(i+1) for i,s in enumerate(chars)}\n",
    "stoi[\".\"] = 0\n",
    "itos = {s:i for i,s in stoi.items()}"
   ]
  },
  {
   "cell_type": "code",
   "execution_count": 5,
   "metadata": {},
   "outputs": [],
   "source": [
    "for w in words:\n",
    "    chs = ['.'] + ['.'] + list(w) + ['.']\n",
    "    for ch1, ch2, ch3 in zip(chs, chs[1:], chs[2:]):\n",
    "        ind1 = stoi[ch1]\n",
    "        ind2 = stoi[ch2]\n",
    "        ind3 = stoi[ch3]\n",
    "        N[ind1][ind2][ind3] += 1"
   ]
  },
  {
   "cell_type": "code",
   "execution_count": 6,
   "metadata": {},
   "outputs": [],
   "source": [
    "P = (N+1).float()\n",
    "P /= P.sum(2, keepdim=True)"
   ]
  },
  {
   "cell_type": "code",
   "execution_count": 7,
   "metadata": {},
   "outputs": [
    {
     "name": "stdout",
     "output_type": "stream",
     "text": [
      "miq.\n",
      "axx.\n",
      "mereyannyaar.\n",
      "knooraen.\n",
      "el.\n",
      "marviovania.\n",
      "odarimalabelon.\n",
      "hamirelslen.\n",
      "elyn.\n",
      "rae.\n",
      "bra.\n",
      "ceevlainacelonikaireil.\n",
      "bech.\n",
      "amilleia.\n",
      "trutandennimsaby.\n",
      "crewina.\n",
      "lanoxvkyrina.\n",
      "khine.\n",
      "trise.\n",
      "koberseberryslot.\n"
     ]
    }
   ],
   "source": [
    "g = torch.Generator().manual_seed(2147483647)\n",
    "\n",
    "for i in range(20):\n",
    "    out = []\n",
    "\n",
    "    iix = 0\n",
    "    ix = 0\n",
    "\n",
    "    while True:\n",
    "        p = P[iix][ix]\n",
    "\n",
    "        iix = ix\n",
    "        ix = torch.multinomial(p, num_samples=1, replacement=True, generator=g).item()\n",
    "        out.append(itos[ix])\n",
    "\n",
    "        if ix == 0:\n",
    "            break\n",
    "\n",
    "\n",
    "    print(''.join(out))"
   ]
  },
  {
   "cell_type": "code",
   "execution_count": 8,
   "metadata": {},
   "outputs": [
    {
     "name": "stdout",
     "output_type": "stream",
     "text": [
      "tensor(2.2120)\n"
     ]
    }
   ],
   "source": [
    "log_likelihood = 0.0\n",
    "\n",
    "num_predictions = 0\n",
    "\n",
    "for w in words:\n",
    "    chs = [\".\"] + ['.'] + list(w) + [\".\"]\n",
    "\n",
    "    for ch1, ch2, ch3 in zip(chs, chs[1:], chs[2:]):\n",
    "        ix1 = stoi[ch1]\n",
    "        ix2 = stoi[ch2]\n",
    "        ix3 = stoi[ch3]\n",
    "        prob = P[ix1, ix2, ix3]\n",
    "        log_prob = torch.log(prob)\n",
    "        log_likelihood += log_prob\n",
    "        num_predictions += 1\n",
    "    \n",
    "nll = -log_likelihood\n",
    "\n",
    "loss_func = nll / num_predictions\n",
    "\n",
    "print(loss_func)"
   ]
  }
 ],
 "metadata": {
  "kernelspec": {
   "display_name": "Python 3",
   "language": "python",
   "name": "python3"
  },
  "language_info": {
   "codemirror_mode": {
    "name": "ipython",
    "version": 3
   },
   "file_extension": ".py",
   "mimetype": "text/x-python",
   "name": "python",
   "nbconvert_exporter": "python",
   "pygments_lexer": "ipython3",
   "version": "3.10.11"
  },
  "orig_nbformat": 4
 },
 "nbformat": 4,
 "nbformat_minor": 2
}
