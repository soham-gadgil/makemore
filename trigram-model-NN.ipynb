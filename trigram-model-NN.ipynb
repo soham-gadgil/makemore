{
 "cells": [
  {
   "cell_type": "code",
   "execution_count": 1,
   "metadata": {},
   "outputs": [],
   "source": [
    "# Corpus of around 32K names\n",
    "words = open(\"names.txt\", \"r\").read().splitlines()"
   ]
  },
  {
   "cell_type": "code",
   "execution_count": 2,
   "metadata": {},
   "outputs": [],
   "source": [
    "import torch\n",
    "import torch.nn.functional as F"
   ]
  },
  {
   "cell_type": "code",
   "execution_count": 3,
   "metadata": {},
   "outputs": [],
   "source": [
    "chars = sorted(list(set(''.join(words))))\n",
    "stoi = {s:(i+1) for i,s in enumerate(chars)}\n",
    "stoi[\".\"] = 0\n",
    "itos = {s:i for i,s in stoi.items()}"
   ]
  },
  {
   "cell_type": "code",
   "execution_count": 4,
   "metadata": {},
   "outputs": [],
   "source": [
    "# Create training set of trigrams\n",
    "xs1, xs2, ys = [], [], []\n",
    "\n",
    "for w in words:\n",
    "    chs = ['.'] + ['.'] + list(w) + ['.']\n",
    "    for ch1, ch2, ch3 in zip(chs, chs[1:], chs[2:]):\n",
    "        ind1 = stoi[ch1]\n",
    "        ind2 = stoi[ch2]\n",
    "        ind3 = stoi[ch3]\n",
    "\n",
    "        xs1.append(ind1)\n",
    "        xs2.append(ind2)\n",
    "        ys.append(ind3)\n",
    "\n",
    "xs1 = torch.tensor(xs1)\n",
    "xs2 = torch.tensor(xs2)\n",
    "ys = torch.tensor(ys)"
   ]
  },
  {
   "cell_type": "code",
   "execution_count": 5,
   "metadata": {},
   "outputs": [
    {
     "name": "stdout",
     "output_type": "stream",
     "text": [
      "4.242241859436035\n",
      "2.394003391265869\n"
     ]
    }
   ],
   "source": [
    "# Passes in a training loop (gradient descent)\n",
    "\n",
    "g = torch.Generator().manual_seed(2147483647)\n",
    "W = torch.randn([54,27], generator=g, requires_grad=True)\n",
    "num = xs1.nelement()\n",
    "\n",
    "for k in range(200):\n",
    "    # forward pass\n",
    "    xenc1 = F.one_hot(xs1, num_classes=27).float()\n",
    "    xenc2 = F.one_hot(xs2, num_classes=27).float()\n",
    "    xenc = torch.cat((xenc1,xenc2), 1)\n",
    "    logits = xenc @ W\n",
    "    counts = logits.exp()\n",
    "    probs = counts / counts.sum(1, keepdims=True)\n",
    "    loss = -probs[torch.arange(num), ys].log().mean() + 0.01*(W**2).mean()\n",
    "\n",
    "    if k % 100 == 0:\n",
    "        print(loss.item())\n",
    "\n",
    "\n",
    "    # backward pass\n",
    "    W.grad = None # set to zero the gradient\n",
    "    loss.backward()\n",
    "\n",
    "    # update\n",
    "    W.data += -50 * W.grad"
   ]
  },
  {
   "cell_type": "code",
   "execution_count": 6,
   "metadata": {},
   "outputs": [
    {
     "name": "stdout",
     "output_type": "stream",
     "text": [
      "mfra.\n",
      "tt.\n",
      "len.\n",
      "veroydas.\n",
      "jalio.\n"
     ]
    }
   ],
   "source": [
    "g = torch.Generator().manual_seed(2147483647)\n",
    "\n",
    "for i in range(5):\n",
    "    out = []\n",
    "\n",
    "    iix = 0\n",
    "    ix = 0\n",
    "\n",
    "    while True:\n",
    "        xenc1 = F.one_hot(torch.tensor([iix]), num_classes=27).float()\n",
    "        xenc2 = F.one_hot(torch.tensor([ix]), num_classes=27).float()\n",
    "\n",
    "        logits = torch.cat((xenc1,xenc2), 1) @ W\n",
    "        counts = logits.exp()\n",
    "        p = counts / counts.sum(1, keepdims=True)\n",
    "\n",
    "        iix = ix\n",
    "        ix = torch.multinomial(p, num_samples=1, replacement=True, generator=g).item()\n",
    "        out.append(itos[ix])\n",
    "\n",
    "        if ix == 0:\n",
    "            break \n",
    "    print(\"\".join(out))"
   ]
  }
 ],
 "metadata": {
  "kernelspec": {
   "display_name": "Python 3",
   "language": "python",
   "name": "python3"
  },
  "language_info": {
   "codemirror_mode": {
    "name": "ipython",
    "version": 3
   },
   "file_extension": ".py",
   "mimetype": "text/x-python",
   "name": "python",
   "nbconvert_exporter": "python",
   "pygments_lexer": "ipython3",
   "version": "3.10.11"
  },
  "orig_nbformat": 4
 },
 "nbformat": 4,
 "nbformat_minor": 2
}
